{
  "nbformat": 4,
  "nbformat_minor": 0,
  "metadata": {
    "colab": {
      "provenance": [],
      "authorship_tag": "ABX9TyOyNbx4O4I0KuWoZAVN5s7p",
      "include_colab_link": true
    },
    "kernelspec": {
      "name": "python3",
      "display_name": "Python 3"
    },
    "language_info": {
      "name": "python"
    }
  },
  "cells": [
    {
      "cell_type": "markdown",
      "metadata": {
        "id": "view-in-github",
        "colab_type": "text"
      },
      "source": [
        "<a href=\"https://colab.research.google.com/github/bamboo820/Introduction-to-Computers/blob/main/0515.ipynb\" target=\"_parent\"><img src=\"https://colab.research.google.com/assets/colab-badge.svg\" alt=\"Open In Colab\"/></a>"
      ]
    },
    {
      "cell_type": "code",
      "source": [
        "print(\"0515\")"
      ],
      "metadata": {
        "colab": {
          "base_uri": "https://localhost:8080/"
        },
        "id": "mGGIVpk2LLCg",
        "outputId": "fa3d1a9a-3b3c-4b47-ab99-a8974e1167bc"
      },
      "execution_count": 33,
      "outputs": [
        {
          "output_type": "stream",
          "name": "stdout",
          "text": [
            "0515\n"
          ]
        }
      ]
    },
    {
      "cell_type": "code",
      "execution_count": null,
      "metadata": {
        "id": "-DlYh0dKSShi",
        "colab": {
          "base_uri": "https://localhost:8080/"
        },
        "outputId": "9bf86f0c-6b4f-48c1-9db2-c41f4f3d6987"
      },
      "outputs": [
        {
          "output_type": "stream",
          "name": "stdout",
          "text": [
            "今天會下雨嗎N\n",
            "出門不用帶傘\n"
          ]
        }
      ],
      "source": [
        "rain = input(\"今天會下雨嗎\")\n",
        "if(rain == \"Y\" or rain == \"y\"):\n",
        "  print('出門記得帶傘')\n",
        "elif(rain == \"N\" or rain == \"n\"):\n",
        "  print('出門不用帶傘')\n",
        "else:\n",
        "  print('請重新輸入')"
      ]
    },
    {
      "cell_type": "code",
      "source": [
        "TW = float(input(\"請輸入您的體溫\"))\n",
        "if TW >= 37.5 :\n",
        "  print('體溫過高!')\n",
        "elif TW >= 37 :\n",
        "  print('體溫略高!')\n",
        "elif TW >= 34 :\n",
        "  print('體溫正常!')\n",
        "else:\n",
        "  print('體溫異常，請重新測量!')"
      ],
      "metadata": {
        "colab": {
          "base_uri": "https://localhost:8080/"
        },
        "id": "M18tM6QK9x8t",
        "outputId": "436cc123-ffe7-4c28-a27f-78db572d30a5"
      },
      "execution_count": null,
      "outputs": [
        {
          "output_type": "stream",
          "name": "stdout",
          "text": [
            "請輸入您的體溫37.4\n",
            "體溫略高!\n"
          ]
        }
      ]
    },
    {
      "cell_type": "code",
      "source": [
        "score = int(input(\"請輸入你的 成績\"))\n",
        "if score >= 90 :\n",
        "  print('A')\n",
        "elif score >= 80 :\n",
        "  print('B')\n",
        "elif score >= 70 :\n",
        "  print('C')\n",
        "elif score >= 60 :\n",
        "  print('D')  \n",
        "else:\n",
        "  print('E')"
      ],
      "metadata": {
        "colab": {
          "base_uri": "https://localhost:8080/"
        },
        "id": "FpVXeqed_zPc",
        "outputId": "06a98788-ce35-4c38-d9b7-b5363cf3a125"
      },
      "execution_count": 22,
      "outputs": [
        {
          "output_type": "stream",
          "name": "stdout",
          "text": [
            "請輸入你的 成績50\n",
            "E\n"
          ]
        }
      ]
    },
    {
      "cell_type": "code",
      "source": [
        "season = int(input(\"請輸入月份\"))\n",
        "if (season == 3 or season == 4 or season == 5) :\n",
        "  print(season , '月是春天!')\n",
        "elif (season == 6 or season == 7 or season == 8) :\n",
        "  print(season , '月夏天!')\n",
        "elif (season == 9 or season == 10 or season == 11) :\n",
        "  print(season , '月是秋天!')\n",
        "elif (season == 12 or season == 1 or season == 2) :\n",
        "  print(season , '月是冬天!')\n",
        "else:\n",
        "  print('月份不在範圍內!')"
      ],
      "metadata": {
        "colab": {
          "base_uri": "https://localhost:8080/"
        },
        "id": "sBKv0dqhEyAn",
        "outputId": "2ab4346c-7c05-4b9b-a654-c3500d44399e"
      },
      "execution_count": 30,
      "outputs": [
        {
          "output_type": "stream",
          "name": "stdout",
          "text": [
            "請輸入月份8\n",
            "8 月夏天!\n"
          ]
        }
      ]
    },
    {
      "cell_type": "code",
      "source": [
        "x = int(input(\"請輸入今年收入淨額\"))\n",
        "if x >= 2000000 :\n",
        "  print(\"付稅金額:\", x * 0.3 ,\"元\")\n",
        "elif x >= 1000000 :\n",
        "  print(\"付稅金額:\", x * 0.21 ,\"元\")\n",
        "elif x >= 600000 :\n",
        "  print(\"付稅金額:\", x * 0.13 ,\"元\")\n",
        "elif x >=300000 :\n",
        "  print(\"付稅金額:\", x * 0.06 ,\"元\")\n",
        "else:\n",
        "  print('付稅金額: 0 元')"
      ],
      "metadata": {
        "colab": {
          "base_uri": "https://localhost:8080/"
        },
        "id": "r7qT2EDRIzYJ",
        "outputId": "69484d5a-5d81-43d8-e521-a28d68342f12"
      },
      "execution_count": 32,
      "outputs": [
        {
          "output_type": "stream",
          "name": "stdout",
          "text": [
            "請輸入今年收入淨額10000\n",
            "付稅金額: 0 元\n"
          ]
        }
      ]
    }
  ]
}