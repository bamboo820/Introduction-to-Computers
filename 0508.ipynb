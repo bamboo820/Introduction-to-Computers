{
  "nbformat": 4,
  "nbformat_minor": 0,
  "metadata": {
    "colab": {
      "provenance": [],
      "authorship_tag": "ABX9TyNUzj/wjqoX9CnGX6EUvSbY",
      "include_colab_link": true
    },
    "kernelspec": {
      "name": "python3",
      "display_name": "Python 3"
    },
    "language_info": {
      "name": "python"
    }
  },
  "cells": [
    {
      "cell_type": "markdown",
      "metadata": {
        "id": "view-in-github",
        "colab_type": "text"
      },
      "source": [
        "<a href=\"https://colab.research.google.com/github/bamboo820/Introduction-to-Computers/blob/main/0508.ipynb\" target=\"_parent\"><img src=\"https://colab.research.google.com/assets/colab-badge.svg\" alt=\"Open In Colab\"/></a>"
      ]
    },
    {
      "cell_type": "code",
      "source": [
        "print(\"0508\")"
      ],
      "metadata": {
        "colab": {
          "base_uri": "https://localhost:8080/"
        },
        "id": "ut1mfImicxmI",
        "outputId": "ed6bc59e-963b-4274-d8fc-6d56055f2556"
      },
      "execution_count": 14,
      "outputs": [
        {
          "output_type": "stream",
          "name": "stdout",
          "text": [
            "0508\n"
          ]
        }
      ]
    },
    {
      "cell_type": "code",
      "execution_count": 6,
      "metadata": {
        "colab": {
          "base_uri": "https://localhost:8080/"
        },
        "id": "zSqUDU8ObjdK",
        "outputId": "2b959d25-b4ab-47d8-d212-63abf75386a0"
      },
      "outputs": [
        {
          "output_type": "stream",
          "name": "stdout",
          "text": [
            "請輸入密碼：1234\n",
            "密碼正確\n"
          ]
        }
      ],
      "source": [
        "password = int(input(\"請輸入密碼：\"))\n",
        "if password ==1234:\n",
        " print(\"密碼正確\")\n",
        "else:\n",
        " print(\"密碼不正確\")"
      ]
    },
    {
      "cell_type": "code",
      "source": [
        "password = int(input(\"請輸入密碼：\"))\n",
        "if password ==1234:\n",
        " print(\"密碼正確\")\n",
        "else:\n",
        " print(\"密碼不正確\")"
      ],
      "metadata": {
        "colab": {
          "base_uri": "https://localhost:8080/"
        },
        "id": "ACs9BbrQZI2y",
        "outputId": "d2f8cbd9-f3b0-407d-ddab-93065f3dbb79"
      },
      "execution_count": 9,
      "outputs": [
        {
          "output_type": "stream",
          "name": "stdout",
          "text": [
            "請輸入密碼：1111\n",
            "密碼不正確\n"
          ]
        }
      ]
    },
    {
      "cell_type": "code",
      "source": [
        "score = int (input(\"請輸入分數：\"))\n",
        "if score >= 60 :\n",
        " print(\"及格\")\n",
        "else:\n",
        " print(\"不及格\")"
      ],
      "metadata": {
        "colab": {
          "base_uri": "https://localhost:8080/"
        },
        "id": "AV6U2szrW9us",
        "outputId": "f190398d-6e7b-42bd-8fe5-5b92e9a50837"
      },
      "execution_count": 5,
      "outputs": [
        {
          "output_type": "stream",
          "name": "stdout",
          "text": [
            "請輸入分數：40\n",
            "不及格\n"
          ]
        }
      ]
    },
    {
      "cell_type": "code",
      "source": [
        "x = int(input(\"請輸入正整數\"))\n",
        "if (x % 2 ) == 0 :\n",
        " print(\"偶數\")\n",
        "else:\n",
        " print(\"基數\")"
      ],
      "metadata": {
        "colab": {
          "base_uri": "https://localhost:8080/"
        },
        "id": "s4e1KRy7ZoZD",
        "outputId": "a77cd446-5f37-4679-c069-5a079ca09d04"
      },
      "execution_count": 12,
      "outputs": [
        {
          "output_type": "stream",
          "name": "stdout",
          "text": [
            "請輸入正整數50\n",
            "偶數\n"
          ]
        }
      ]
    }
  ]
}